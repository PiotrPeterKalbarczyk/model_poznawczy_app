{
 "cells": [
  {
   "cell_type": "markdown",
   "metadata": {},
   "source": [
    "Testing stage of an app for model_poznawczy"
   ]
  },
  {
   "cell_type": "markdown",
   "metadata": {},
   "source": [
    "dane jakie beda mi potrzebne \n",
    "1. Obszar - tutaj bede mial rozwijana liste i wybor\n",
    "2. Sytuacja \n",
    "- 2a. - Kto - tekst\n",
    "- 2b. - Kiedy - data\n",
    "- 2c. - Gdzie - tekst czy moze lokalizacja i bede mogl odczucie wzgledem lokalizacji analizowac?\n",
    "- 2d. - Opis - tekst\n",
    "3. Myśli automatyczne\n",
    "4. Emocje i nastroje - lista mapa-emocji i dodac do tego np %\n",
    "5. Reakcje behawioralne tekst\n",
    "6. check box - zadzialalem wg impulsu/nie zadzialalem wg impulsu\n",
    "7. dowody za mysla automatyczna \n",
    "8. dowody przeciw mysli automatycznej\n",
    "9. mysl alternatywna \n"
   ]
  },
  {
   "cell_type": "markdown",
   "metadata": {},
   "source": [
    "**dodatkowe opcje:**\n",
    "- polaczyc to z PostgreSQL?\n",
    "- jakie analizy przeprowadzic?\n"
   ]
  },
  {
   "cell_type": "code",
   "execution_count": 1,
   "metadata": {},
   "outputs": [],
   "source": [
    "import pandas as pd\n",
    "import streamlit as st"
   ]
  }
 ],
 "metadata": {
  "kernelspec": {
   "display_name": "base",
   "language": "python",
   "name": "python3"
  },
  "language_info": {
   "codemirror_mode": {
    "name": "ipython",
    "version": 3
   },
   "file_extension": ".py",
   "mimetype": "text/x-python",
   "name": "python",
   "nbconvert_exporter": "python",
   "pygments_lexer": "ipython3",
   "version": "3.12.3"
  }
 },
 "nbformat": 4,
 "nbformat_minor": 2
}
