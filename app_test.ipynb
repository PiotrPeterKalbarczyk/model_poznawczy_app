{
 "cells": [
  {
   "cell_type": "markdown",
   "metadata": {},
   "source": [
    "Testing stage of an app for model_poznawczy"
   ]
  },
  {
   "cell_type": "markdown",
   "metadata": {},
   "source": [
    "dane jakie beda mi potrzebne \n",
    "1. Obszar - tutaj bede mial rozwijana liste i wybor\n",
    "2. Sytuacja \n",
    "- 2a. - Kto - tekst\n",
    "- 2b. - Kiedy - data\n",
    "- 2c. - Gdzie - tekst czy moze lokalizacja i bede mogl odczucie wzgledem lokalizacji analizowac?\n",
    "- 2d. - Opis - tekst\n",
    "3. Myśli automatyczne\n",
    "4. Emocje i nastroje - lista mapa-emocji i dodac do tego np %\n",
    "5. Reakcje behawioralne tekst\n",
    "6. check box - zadzialalem wg impulsu/nie zadzialalem wg impulsu\n",
    "7. dowody za mysla automatyczna \n",
    "8. dowody przeciw mysli automatycznej\n",
    "9. mysl alternatywna \n"
   ]
  },
  {
   "cell_type": "markdown",
   "metadata": {},
   "source": [
    "**dodatkowe opcje:**\n",
    "- polaczyc to z PostgreSQL?\n",
    "- jakie analizy przeprowadzic?\n"
   ]
  },
  {
   "cell_type": "code",
   "execution_count": 9,
   "metadata": {},
   "outputs": [],
   "source": [
    "import pandas as pd\n",
    "import streamlit as st\n",
    "from weasyprint import HTML"
   ]
  },
  {
   "cell_type": "code",
   "execution_count": 16,
   "metadata": {},
   "outputs": [],
   "source": [
    "html_string =  \"\"\"\n",
    "<!DOCTYPE html>\n",
    "<html lang=\"pl\">\n",
    "<head>\n",
    "    <meta charset=\"UTF-8\">\n",
    "    <style>\n",
    "        body {\n",
    "            font-family: Arial, sans-serif;\n",
    "            margin: 40px;\n",
    "        }\n",
    "        table {\n",
    "            width: 100%;\n",
    "            border-collapse: collapse;\n",
    "            margin-top: 10px;\n",
    "        }\n",
    "        td, th {\n",
    "            border: 1px solid #000;\n",
    "            padding: 8px;\n",
    "            vertical-align: top;\n",
    "        }\n",
    "        .no-border {\n",
    "            border: none !important;\n",
    "        }\n",
    "        .checkbox {\n",
    "            font-size: 1.1em;\n",
    "        }\n",
    "    </style>\n",
    "</head>\n",
    "<body>\n",
    "\n",
    "    <h2 style=\"text-align:center;\">Model poznawczy – raport</h2>\n",
    "\n",
    "    <table>\n",
    "        <tr>\n",
    "            <td><b>Obszar</b></td>\n",
    "            <td colspan=\"4\">{{ obszar }}</td>\n",
    "        </tr>\n",
    "        <tr>\n",
    "            <td><b>Kto?</b></td>\n",
    "            <td>{{ kto }}</td>\n",
    "            <td><b>Kiedy?</b></td>\n",
    "            <td>{{ kiedy }}</td>\n",
    "            <td><b>Gdzie?</b></td>\n",
    "            <td>{{ gdzie }}</td>\n",
    "        </tr>\n",
    "        <tr>\n",
    "            <td colspan=\"6\"><b>Opis sytuacji</b><br>{{ opis }}</td>\n",
    "        </tr>\n",
    "        <tr>\n",
    "            <td colspan=\"6\"><b>Myśli automatyczne</b><br>{{ mysl_automatyczna }}</td>\n",
    "        </tr>\n",
    "        <tr>\n",
    "            <td colspan=\"6\"><b>Emocje i nastroje</b></td>\n",
    "        </tr>\n",
    "        <tr>\n",
    "            <td><b>Emocja 1</b></td>\n",
    "            <td colspan=\"2\">{{ emocja_1 }}</td>\n",
    "            <td colspan=\"3\"><b>%</b> {{ procent_1 }}</td>\n",
    "        </tr>\n",
    "        <tr>\n",
    "            <td><b>Emocja 2</b></td>\n",
    "            <td colspan=\"2\">{{ emocja_2 }}</td>\n",
    "            <td colspan=\"3\"><b>%</b> {{ procent_2 }}</td>\n",
    "        </tr>\n",
    "        {% if emocja_3 %}\n",
    "        <tr>\n",
    "            <td><b>Emocja 3</b></td>\n",
    "            <td colspan=\"2\">{{ emocja_3 }}</td>\n",
    "            <td colspan=\"3\"><b>%</b> {{ procent_3 }}</td>\n",
    "        </tr>\n",
    "        {% endif %}\n",
    "        <tr>\n",
    "            <td colspan=\"6\"><b>Reakcje behawioralne – impuls (co zrobiłem/najchętniej bym zrobił)</b><br>{{ reakcje }}</td>\n",
    "        </tr>\n",
    "        <tr>\n",
    "            <td class=\"checkbox\" colspan=\"3\">☑ {{ impuls }}</td>\n",
    "            <td class=\"checkbox\" colspan=\"3\">☐ {{ \"Nie wybrano\" if not impuls else \"\" }}</td>\n",
    "        </tr>\n",
    "        <tr>\n",
    "            <td colspan=\"6\"><b>Dowody za myślą automatyczną</b><br>{{ dowody_za }}</td>\n",
    "        </tr>\n",
    "        <tr>\n",
    "            <td colspan=\"6\"><b>Dowody przeciw myśli automatycznej</b><br>{{ dowody_przeciw }}</td>\n",
    "        </tr>\n",
    "        <tr>\n",
    "            <td colspan=\"6\"><b>Myśl alternatywna</b><br>{{ mysl_alternatywna }}</td>\n",
    "        </tr>\n",
    "    </table>\n",
    "\n",
    "</body>\n",
    "</html>\n",
    "\n",
    "\"\"\"\n",
    "\n"
   ]
  },
  {
   "cell_type": "code",
   "execution_count": 17,
   "metadata": {},
   "outputs": [],
   "source": [
    "HTML(string=html_string).write_pdf(\"raport.pdf\")"
   ]
  },
  {
   "cell_type": "code",
   "execution_count": 93,
   "metadata": {},
   "outputs": [],
   "source": [
    "import datetime\n",
    "import os\n",
    "import re"
   ]
  },
  {
   "cell_type": "code",
   "execution_count": 44,
   "metadata": {},
   "outputs": [],
   "source": [
    "file_path = \"Model_poznawczy_raport_\"+datetime.date.today().strftime(\"%Y_%m_%d\")+\".pdf\""
   ]
  },
  {
   "cell_type": "code",
   "execution_count": 47,
   "metadata": {},
   "outputs": [
    {
     "data": {
      "text/plain": [
       "'Model_poznawczy_raport_2025_04_02.pdf'"
      ]
     },
     "execution_count": 47,
     "metadata": {},
     "output_type": "execute_result"
    }
   ],
   "source": [
    "file_path\n"
   ]
  },
  {
   "cell_type": "code",
   "execution_count": 53,
   "metadata": {},
   "outputs": [
    {
     "name": "stdout",
     "output_type": "stream",
     "text": [
      "Model_poznawczy_raport_2025_04_02.pdf_v1\n"
     ]
    }
   ],
   "source": [
    "version=1\n",
    "while os.path.exists(file_path):\n",
    "    version+=1\n",
    "    file_path=file_path+\"_v\"+str(version)\n",
    "print(file_path)"
   ]
  },
  {
   "cell_type": "code",
   "execution_count": 87,
   "metadata": {},
   "outputs": [],
   "source": [
    "file_name = \"./output/Model_poznawczy_raport_\"+datetime.date.today().strftime(\"%Y_%m_%d\") + \"_v\"\n",
    "\n",
    "version=1\n",
    "while os.path.exists(file_name + str(version) + \".pdf\"):\n",
    "    version+=1\n",
    "    file_name=file_name + str(version)\n",
    "\n",
    "output_path = file_name+str(version)+\".pdf\""
   ]
  },
  {
   "cell_type": "code",
   "execution_count": 88,
   "metadata": {},
   "outputs": [
    {
     "name": "stdout",
     "output_type": "stream",
     "text": [
      "./output/Model_poznawczy_raport_2025_04_02_v\n",
      "./output/Model_poznawczy_raport_2025_04_02_v1.pdf\n"
     ]
    }
   ],
   "source": [
    "print(file_name)\n",
    "print(output_path)"
   ]
  },
  {
   "cell_type": "code",
   "execution_count": null,
   "metadata": {},
   "outputs": [
    {
     "name": "stdout",
     "output_type": "stream",
     "text": [
      "['1', '2']\n",
      "2\n",
      "<class 'str'>\n"
     ]
    }
   ],
   "source": [
    "files = os.listdir(\"./output\")\n",
    "\n",
    "version_list =[]\n",
    "for x in files:\n",
    "    matches = re.findall(r\"v(\\d+)\",x)\n",
    "    for y in matches:\n",
    "        version_list.append(y)\n",
    "\n",
    "file_name = \"./output/Model_poznawczy_raport_\"+datetime.date.today().strftime(\"%Y_%m_%d\") + \"_v\"\n",
    "version=int(max(version_list))\n",
    "\n",
    "\n",
    "while os.path.exists(file_name + str(version) + \".pdf\"):\n",
    "    version+=1\n",
    "\n",
    "output_path = file_name+str(version)+\".pdf\""
   ]
  },
  {
   "cell_type": "code",
   "execution_count": null,
   "metadata": {},
   "outputs": [
    {
     "name": "stdout",
     "output_type": "stream",
     "text": [
      "./output/Model_poznawczy_raport_2025_04_02_v3.pdf\n"
     ]
    }
   ],
   "source": [
    "print(output_path)"
   ]
  },
  {
   "cell_type": "code",
   "execution_count": 112,
   "metadata": {},
   "outputs": [],
   "source": [
    "files = os.listdir(\"./output\")\n",
    "\n",
    "version_list =[]\n",
    "for x in files:\n",
    "    matches = re.findall(r\"v(\\d+)\",x)\n",
    "    for y in matches:\n",
    "        version_list.append(int(y))\n",
    "\n",
    "file_name = \"./output/Model_poznawczy_raport_\"+datetime.date.today().strftime(\"%Y_%m_%d\") + \"_v\"\n",
    "if version_list ==[]:\n",
    "    version=1\n",
    "else:\n",
    "    version=max(version_list)+1\n",
    "\n",
    "\n",
    "while os.path.exists(file_name + str(version) + \".pdf\"):\n",
    "    version+=1\n",
    "\n",
    "output_path = file_name+str(version)+\".pdf\""
   ]
  },
  {
   "cell_type": "code",
   "execution_count": 117,
   "metadata": {},
   "outputs": [
    {
     "name": "stdout",
     "output_type": "stream",
     "text": [
      "<class 'int'>\n"
     ]
    }
   ],
   "source": [
    "print(type(max(version_list)))"
   ]
  },
  {
   "cell_type": "code",
   "execution_count": null,
   "metadata": {},
   "outputs": [],
   "source": []
  },
  {
   "cell_type": "code",
   "execution_count": null,
   "metadata": {},
   "outputs": [],
   "source": []
  }
 ],
 "metadata": {
  "kernelspec": {
   "display_name": "base",
   "language": "python",
   "name": "python3"
  },
  "language_info": {
   "codemirror_mode": {
    "name": "ipython",
    "version": 3
   },
   "file_extension": ".py",
   "mimetype": "text/x-python",
   "name": "python",
   "nbconvert_exporter": "python",
   "pygments_lexer": "ipython3",
   "version": "3.12.3"
  }
 },
 "nbformat": 4,
 "nbformat_minor": 2
}
